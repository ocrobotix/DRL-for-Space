{
  "nbformat": 4,
  "nbformat_minor": 0,
  "metadata": {
    "colab": {
      "provenance": [],
      "authorship_tag": "ABX9TyMZ3JJD1pKKSRWCOAvZcstn",
      "include_colab_link": true
    },
    "kernelspec": {
      "name": "python3",
      "display_name": "Python 3"
    },
    "language_info": {
      "name": "python"
    }
  },
  "cells": [
    {
      "cell_type": "markdown",
      "metadata": {
        "id": "view-in-github",
        "colab_type": "text"
      },
      "source": [
        "<a href=\"https://colab.research.google.com/github/ocrobotix/DRL-for-Space/blob/main/Vizdoom.ipynb\" target=\"_parent\"><img src=\"https://colab.research.google.com/assets/colab-badge.svg\" alt=\"Open In Colab\"/></a>"
      ]
    },
    {
      "cell_type": "code",
      "execution_count": null,
      "metadata": {
        "id": "7KufG4Khkh7U",
        "colab": {
          "base_uri": "https://localhost:8080/"
        },
        "outputId": "501b4848-c0ba-4e4c-956d-9be166decba4"
      },
      "outputs": [
        {
          "output_type": "stream",
          "name": "stdout",
          "text": [
            "Mounted at /content/drive\n"
          ]
        }
      ],
      "source": [
        "from google.colab import drive\n",
        "drive.mount('/content/drive')\n",
        "os.chdir('/content/drive/MyDrive/Colab Notebooks')"
      ]
    },
    {
      "source": [
        "# This cell should be run first to install the vizdoom library.\n",
        "!pip install vizdoom"
      ],
      "cell_type": "code",
      "metadata": {
        "colab": {
          "base_uri": "https://localhost:8080/"
        },
        "id": "wMeUuxn98YGL",
        "outputId": "ca63e5a2-e22f-4820-fd22-66198d140005"
      },
      "execution_count": null,
      "outputs": [
        {
          "output_type": "stream",
          "name": "stdout",
          "text": [
            "Requirement already satisfied: vizdoom in /usr/local/lib/python3.11/dist-packages (1.2.4)\n",
            "Requirement already satisfied: numpy in /usr/local/lib/python3.11/dist-packages (from vizdoom) (2.0.2)\n",
            "Requirement already satisfied: gymnasium>=0.28.0 in /usr/local/lib/python3.11/dist-packages (from vizdoom) (1.1.1)\n",
            "Requirement already satisfied: pygame>=2.1.3 in /usr/local/lib/python3.11/dist-packages (from vizdoom) (2.6.1)\n",
            "Requirement already satisfied: cloudpickle>=1.2.0 in /usr/local/lib/python3.11/dist-packages (from gymnasium>=0.28.0->vizdoom) (3.1.1)\n",
            "Requirement already satisfied: typing-extensions>=4.3.0 in /usr/local/lib/python3.11/dist-packages (from gymnasium>=0.28.0->vizdoom) (4.14.0)\n",
            "Requirement already satisfied: farama-notifications>=0.0.1 in /usr/local/lib/python3.11/dist-packages (from gymnasium>=0.28.0->vizdoom) (0.0.4)\n"
          ]
        }
      ]
    },
    {
      "cell_type": "code",
      "source": [
        "#!/usr/bin/env python3\n",
        "\n",
        "#####################################################################\n",
        "# This script presents how to use the most basic features of the environment.\n",
        "# It configures the engine, and makes the agent perform random actions.\n",
        "# It also gets current state and reward earned with the action.\n",
        "# <episodes> number of episodes are played.\n",
        "# Random combination of buttons is chosen for every action.\n",
        "# Game variables from state and last reward are printed.\n",
        "#\n",
        "# To see the scenario description go to \"../../scenarios/README.md\"\n",
        "#####################################################################\n",
        "\n",
        "import os\n",
        "from random import choice\n",
        "from time import sleep\n",
        "\n",
        "import vizdoom as vzd\n",
        "\n",
        "\n",
        "if __name__ == \"__main__\":\n",
        "    # Create DoomGame instance. It will run the game and communicate with you.\n",
        "    game = vzd.DoomGame()\n",
        "\n",
        "    # Now it's time for configuration!\n",
        "    # load_config could be used to load configuration instead of doing it here with code.\n",
        "    # If load_config is used in-code configuration will also work - most recent changes will add to previous ones.\n",
        "    # game.load_config(\"../../scenarios/basic.cfg\")\n",
        "\n",
        "    # Sets path to additional resources wad file which is basically your scenario wad.\n",
        "    # If not specified default maps will be used and it's pretty much useless... unless you want to play good old Doom.\n",
        "    game.set_doom_scenario_path(os.path.join(vzd.scenarios_path, \"basic.wad\"))\n",
        "\n",
        "    # Sets map to start (scenario .wad files can contain many maps).\n",
        "    game.set_doom_map(\"map01\")\n",
        "\n",
        "    # Sets resolution. Default is 320X240\n",
        "    game.set_screen_resolution(vzd.ScreenResolution.RES_640X480)\n",
        "\n",
        "    # Sets the screen buffer format. Not used here but now you can change it. Default is CRCGCB.\n",
        "    game.set_screen_format(vzd.ScreenFormat.RGB24)\n",
        "\n",
        "    # Enables depth buffer (turned off by default).\n",
        "    game.set_depth_buffer_enabled(True)\n",
        "\n",
        "    # Enables labeling of in-game objects labeling (turned off by default).\n",
        "    game.set_labels_buffer_enabled(True)\n",
        "\n",
        "    # Enables buffer with a top-down map of the current episode/level (turned off by default).\n",
        "    game.set_automap_buffer_enabled(True)\n",
        "\n",
        "    # Enables information about all objects present in the current episode/level (turned off by default).\n",
        "    game.set_objects_info_enabled(True)\n",
        "\n",
        "    # Enables information about all sectors (map layout/geometry, turned off by default).\n",
        "    game.set_sectors_info_enabled(True)\n",
        "\n",
        "    # Sets other rendering options (all of these options except crosshair are enabled (set to True) by default)\n",
        "    game.set_render_hud(False)\n",
        "    game.set_render_minimal_hud(False)  # If hud is enabled\n",
        "    game.set_render_crosshair(False)\n",
        "    game.set_render_weapon(True)\n",
        "    game.set_render_decals(False)  # Bullet holes and blood on the walls\n",
        "    game.set_render_particles(False)\n",
        "    game.set_render_effects_sprites(False)  # Like smoke and blood\n",
        "    game.set_render_messages(False)  # In-game text messages\n",
        "    game.set_render_corpses(False)\n",
        "    game.set_render_screen_flashes(\n",
        "        True\n",
        "    )  # Effect upon taking damage or picking up items\n",
        "\n",
        "    # Adds buttons that will be allowed to use.\n",
        "    # This can be done by adding buttons one by one:\n",
        "    # game.clear_available_buttons()\n",
        "    # game.add_available_button(vzd.Button.MOVE_LEFT)\n",
        "    # game.add_available_button(vzd.Button.MOVE_RIGHT)\n",
        "    # game.add_available_button(vzd.Button.ATTACK)\n",
        "    # Or by setting them all at once:\n",
        "    game.set_available_buttons(\n",
        "        [vzd.Button.MOVE_LEFT, vzd.Button.MOVE_RIGHT, vzd.Button.ATTACK]\n",
        "    )\n",
        "    # Buttons that will be used can be also checked by:\n",
        "    print(\"Available buttons:\", [b.name for b in game.get_available_buttons()])\n",
        "\n",
        "    # Adds game variables that will be included in state.\n",
        "    # Similarly to buttons, they can be added one by one:\n",
        "    # game.clear_available_game_variables()\n",
        "    # game.add_available_game_variable(vzd.GameVariable.AMMO2)\n",
        "    # Or:\n",
        "    game.set_available_game_variables([vzd.GameVariable.AMMO2])\n",
        "    print(\n",
        "        \"Available game variables:\",\n",
        "        [v.name for v in game.get_available_game_variables()],\n",
        "    )\n",
        "\n",
        "    # Causes episodes to finish after 200 tics (actions)\n",
        "    game.set_episode_timeout(200)\n",
        "\n",
        "    # Makes episodes start after 10 tics (~after raising the weapon)\n",
        "    game.set_episode_start_time(10)\n",
        "\n",
        "    # Makes the window appear (turned on by default)\n",
        "    game.set_window_visible(True)\n",
        "\n",
        "    # Turns on the sound. (turned off by default)\n",
        "    # game.set_sound_enabled(True)\n",
        "    # Because of some problems with OpenAL on Ubuntu 20.04, we keep this line commented,\n",
        "    # the sound is only useful for humans watching the game.\n",
        "\n",
        "    # Turns on the audio buffer. (turned off by default)\n",
        "    # If this is switched on, the audio will stop playing on device, even with game.set_sound_enabled(True)\n",
        "    # Setting game.set_sound_enabled(True) is not required for audio buffer to work.\n",
        "    # game.set_audio_buffer_enabled(True)\n",
        "    # Because of some problems with OpenAL on Ubuntu 20.04, we keep this line commented.\n",
        "\n",
        "    # Sets the living reward (for each move) to -1\n",
        "    game.set_living_reward(-1)\n",
        "\n",
        "    # Sets ViZDoom mode (PLAYER, ASYNC_PLAYER, SPECTATOR, ASYNC_SPECTATOR, PLAYER mode is default)\n",
        "    game.set_mode(vzd.Mode.PLAYER)\n",
        "\n",
        "    # Enables engine output to console, in case of a problem this might provide additional information.\n",
        "    # game.set_console_enabled(True)\n",
        "\n",
        "    # Initialize the game. Further configuration won't take any effect from now on.\n",
        "    game.init()\n",
        "\n",
        "    # Define some actions. Each list entry corresponds to declared buttons:\n",
        "    # MOVE_LEFT, MOVE_RIGHT, ATTACK\n",
        "    # game.get_available_buttons_size() can be used to check the number of available buttons.\n",
        "    # 5 more combinations are naturally possible but only 3 are included for transparency when watching.\n",
        "    actions = [[True, False, False], [False, True, False], [False, False, True]]\n",
        "\n",
        "    # Run this many episodes\n",
        "    episodes = 10\n",
        "\n",
        "    # Sets time that will pause the engine after each action (in seconds)\n",
        "    # Without this everything would go too fast for you to keep track of what's happening.\n",
        "    sleep_time = 1.0 / vzd.DEFAULT_TICRATE  # = 0.028\n",
        "\n",
        "    for i in range(episodes):\n",
        "        print(f\"Episode #{i + 1}\")\n",
        "\n",
        "        # Starts a new episode. It is not needed right after init() but it doesn't cost much. At least the loop is nicer.\n",
        "        game.new_episode()\n",
        "\n",
        "        while not game.is_episode_finished():\n",
        "\n",
        "            # Gets the state\n",
        "            state = game.get_state()\n",
        "\n",
        "            # Which consists of:\n",
        "            n = state.number\n",
        "            vars = state.game_variables\n",
        "\n",
        "            # Different buffers (screens, depth, labels, automap, audio)\n",
        "            # Expect of screen buffer some may be None if not first enabled.\n",
        "            screen_buf = state.screen_buffer\n",
        "            depth_buf = state.depth_buffer\n",
        "            labels_buf = state.labels_buffer\n",
        "            automap_buf = state.automap_buffer\n",
        "            audio_buf = state.audio_buffer\n",
        "\n",
        "            # List of labeled objects visible in the frame, may be None if not first enabled.\n",
        "            labels = state.labels\n",
        "\n",
        "            # List of all objects (enemies, pickups, etc.) present in the current episode, may be None if not first enabled\n",
        "            objects = state.objects\n",
        "\n",
        "            # List of all sectors (map geometry), may be None if not first enabled.\n",
        "            sectors = state.sectors\n",
        "\n",
        "            # Games variables can be also accessed via\n",
        "            # (including the ones that were not added as available to a game state):\n",
        "            # game.get_game_variable(GameVariable.AMMO2)\n",
        "\n",
        "            # Makes an action (here random one) and returns a reward.\n",
        "            r = game.make_action(choice(actions))\n",
        "\n",
        "            # Makes a \"prolonged\" action and skip frames:\n",
        "            # skiprate = 4\n",
        "            # r = game.make_action(choice(actions), skiprate)\n",
        "\n",
        "            # The same could be achieved with:\n",
        "            # game.set_action(choice(actions))\n",
        "            # game.advance_action(skiprate)\n",
        "            # r = game.get_last_reward()\n",
        "\n",
        "            # Prints state's game variables and reward.\n",
        "            print(f\"State #{n}\")\n",
        "            print(\"Game variables:\", vars)\n",
        "            print(\"Reward:\", r)\n",
        "            print(\"=====================\")\n",
        "\n",
        "            if sleep_time > 0:\n",
        "                sleep(sleep_time)\n",
        "\n",
        "        # Check how the episode went.\n",
        "        print(\"Episode finished.\")\n",
        "        print(\"Total reward:\", game.get_total_reward())\n",
        "        print(\"************************\")\n",
        "\n",
        "    # It will be done automatically anyway but sometimes you need to do it in the middle of the program...\n",
        "    game.close()"
      ],
      "metadata": {
        "id": "a7a-ov4Y7PkH",
        "outputId": "ea8dea1f-92ff-42ef-c372-ea88b000b60e",
        "colab": {
          "base_uri": "https://localhost:8080/",
          "height": 383
        }
      },
      "execution_count": null,
      "outputs": [
        {
          "output_type": "error",
          "ename": "ModuleNotFoundError",
          "evalue": "No module named 'vizdoom'",
          "traceback": [
            "\u001b[0;31m---------------------------------------------------------------------------\u001b[0m",
            "\u001b[0;31mModuleNotFoundError\u001b[0m                       Traceback (most recent call last)",
            "\u001b[0;32m/tmp/ipython-input-1-3121267414.py\u001b[0m in \u001b[0;36m<cell line: 0>\u001b[0;34m()\u001b[0m\n\u001b[1;32m     16\u001b[0m \u001b[0;32mfrom\u001b[0m \u001b[0mtime\u001b[0m \u001b[0;32mimport\u001b[0m \u001b[0msleep\u001b[0m\u001b[0;34m\u001b[0m\u001b[0;34m\u001b[0m\u001b[0m\n\u001b[1;32m     17\u001b[0m \u001b[0;34m\u001b[0m\u001b[0m\n\u001b[0;32m---> 18\u001b[0;31m \u001b[0;32mimport\u001b[0m \u001b[0mvizdoom\u001b[0m \u001b[0;32mas\u001b[0m \u001b[0mvzd\u001b[0m\u001b[0;34m\u001b[0m\u001b[0;34m\u001b[0m\u001b[0m\n\u001b[0m\u001b[1;32m     19\u001b[0m \u001b[0;34m\u001b[0m\u001b[0m\n\u001b[1;32m     20\u001b[0m \u001b[0;34m\u001b[0m\u001b[0m\n",
            "\u001b[0;31mModuleNotFoundError\u001b[0m: No module named 'vizdoom'",
            "",
            "\u001b[0;31m---------------------------------------------------------------------------\u001b[0;32m\nNOTE: If your import is failing due to a missing package, you can\nmanually install dependencies using either !pip or !apt.\n\nTo view examples of installing some common dependencies, click the\n\"Open Examples\" button below.\n\u001b[0;31m---------------------------------------------------------------------------\u001b[0m\n"
          ],
          "errorDetails": {
            "actions": [
              {
                "action": "open_url",
                "actionText": "Open Examples",
                "url": "/notebooks/snippets/importing_libraries.ipynb"
              }
            ]
          }
        }
      ]
    },
    {
      "cell_type": "code",
      "source": [],
      "metadata": {
        "id": "T2L8z9AG7QoW"
      },
      "execution_count": null,
      "outputs": []
    }
  ]
}