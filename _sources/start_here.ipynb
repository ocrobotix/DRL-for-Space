{
 "cells": [
  {
   "cell_type": "markdown",
   "id": "ef2aec06-b819-4ebb-b5c5-d7f6f6ecbe47",
   "metadata": {},
   "source": [
    "# This is Day 1"
   ]
  }
 ],
 "metadata": {
  "kernelspec": {
   "display_name": "\"Python/Mu (mu_venv-38-20220921-053148)\"",
   "language": "python",
   "name": "mu_venv-38-20220921-053148"
  },
  "language_info": {
   "codemirror_mode": {
    "name": "ipython",
    "version": 3
   },
   "file_extension": ".py",
   "mimetype": "text/x-python",
   "name": "python",
   "nbconvert_exporter": "python",
   "pygments_lexer": "ipython3",
   "version": "3.8.12"
  }
 },
 "nbformat": 4,
 "nbformat_minor": 5
}
