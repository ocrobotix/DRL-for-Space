{
 "cells": [
  {
   "cell_type": "markdown",
   "id": "bb2d5c89-c51b-41ef-bb30-24dc3d27b4b0",
   "metadata": {},
   "source": [
    "### Page2-2"
   ]
  },
  {
   "cell_type": "code",
   "execution_count": 3,
   "id": "f9275593-19a6-4252-af57-06e2a2be2a42",
   "metadata": {},
   "outputs": [
    {
     "name": "stdout",
     "output_type": "stream",
     "text": [
      "D:\\Jupyter\\Books\\ocdrones\n"
     ]
    }
   ],
   "source": [
    "import os\n",
    "print(os.getcwd())"
   ]
  },
  {
   "cell_type": "code",
   "execution_count": 5,
   "id": "289f37f0-f9cc-45c0-b462-b07b25f54d0d",
   "metadata": {},
   "outputs": [
    {
     "data": {
      "text/html": [
       "<img src=\"https://space-for-website-sandbox.sfo3.cdn.digitaloceanspaces.com/Desert_USA_Death_Valley_California_532254_1920x1080.jpg\" width=\"300\" height=\"900\"/>"
      ],
      "text/plain": [
       "<IPython.core.display.Image object>"
      ]
     },
     "execution_count": 5,
     "metadata": {},
     "output_type": "execute_result"
    }
   ],
   "source": [
    "## Display image from any URL using IPython module\n",
    "from IPython.display import Image\n",
    "# Image(filename='path_to_your_image.jpg', width=300, height=400)\n",
    "\n",
    "Image(url=\"https://space-for-website-sandbox.sfo3.cdn.digitaloceanspaces.com/Desert_USA_Death_Valley_California_532254_1920x1080.jpg\")\n",
    "\n",
    "Image(url=\"https://space-for-website-sandbox.sfo3.cdn.digitaloceanspaces.com/Desert_USA_Death_Valley_California_532254_1920x1080.jpg\", width=300, height=900)\n",
    "# Note: The image will scale proportionally with width; height doesn't matter.\n"
   ]
  },
  {
   "cell_type": "code",
   "execution_count": null,
   "id": "a3f216d8-259f-4e6e-b4a0-9fe545b1ada2",
   "metadata": {},
   "outputs": [],
   "source": []
  }
 ],
 "metadata": {
  "kernelspec": {
   "display_name": "\"Python/Mu (mu_venv-38-20220921-053148)\"",
   "language": "python",
   "name": "mu_venv-38-20220921-053148"
  },
  "language_info": {
   "codemirror_mode": {
    "name": "ipython",
    "version": 3
   },
   "file_extension": ".py",
   "mimetype": "text/x-python",
   "name": "python",
   "nbconvert_exporter": "python",
   "pygments_lexer": "ipython3",
   "version": "3.8.11"
  }
 },
 "nbformat": 4,
 "nbformat_minor": 5
}
