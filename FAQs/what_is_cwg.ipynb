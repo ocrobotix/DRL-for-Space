{
 "cells": [
  {
   "cell_type": "markdown",
   "id": "676a8c49-22f5-4214-8f3d-4cacae5684d9",
   "metadata": {},
   "source": [
    "# What is the canonical wargame?"
   ]
  }
 ],
 "metadata": {
  "kernelspec": {
   "display_name": "\"Python/Mu (mu_venv-38-20220921-053148)\"",
   "language": "python",
   "name": "mu_venv-38-20220921-053148"
  },
  "language_info": {
   "codemirror_mode": {
    "name": "ipython",
    "version": 3
   },
   "file_extension": ".py",
   "mimetype": "text/x-python",
   "name": "python",
   "nbconvert_exporter": "python",
   "pygments_lexer": "ipython3",
   "version": "3.8.12"
  }
 },
 "nbformat": 4,
 "nbformat_minor": 5
}
