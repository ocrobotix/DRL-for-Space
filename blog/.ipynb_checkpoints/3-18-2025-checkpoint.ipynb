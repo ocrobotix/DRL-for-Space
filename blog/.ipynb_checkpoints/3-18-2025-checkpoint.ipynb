{
 "cells": [
  {
   "cell_type": "code",
   "execution_count": null,
   "id": "c85b702b-33b4-4e74-9cca-9ce733db4967",
   "metadata": {},
   "outputs": [],
   "source": [
    "from IPython.display import display\n",
    "from PIL import Image\n",
    "\n",
    "image = Image.open(\"micro_rts.jpg\")  # ✅ Correct method\n",
    "display(image)"
   ]
  },
  {
   "cell_type": "code",
   "execution_count": null,
   "id": "9095646a-ee59-4faf-bde2-928a75522a46",
   "metadata": {},
   "outputs": [],
   "source": [
    "from IPython.display import display\n",
    "from PIL import Image\n",
    "\n",
    "image = Image.open(\"micro_rts.jpg\")  # ✅ Correct method\n",
    "display(image)"
   ]
  },
  {
   "cell_type": "code",
   "execution_count": 2,
   "id": "476225b4-49d2-4e9d-92f7-c9899d528662",
   "metadata": {},
   "outputs": [
    {
     "data": {
      "text/html": [
       "\n",
       "<video width=\"800\" height=\"450\" autoplay loop controls>\n",
       "  <source src=\"test.mp4\" type=\"video/mp4\">\n",
       "  Your browser does not support the video tag.\n",
       "</video>\n"
      ],
      "text/plain": [
       "<IPython.core.display.HTML object>"
      ]
     },
     "execution_count": 2,
     "metadata": {},
     "output_type": "execute_result"
    }
   ],
   "source": [
    "from IPython.display import HTML\n",
    "\n",
    "HTML(\"\"\"\n",
    "<video width=\"800\" height=\"450\" autoplay loop controls>\n",
    "  <source src=\"test.mp4\" type=\"video/mp4\">\n",
    "  Your browser does not support the video tag.\n",
    "</video>\n",
    "\"\"\")\n"
   ]
  },
  {
   "cell_type": "code",
   "execution_count": null,
   "id": "b852a2a0-7ae4-4242-aa70-cc23a83bc0ca",
   "metadata": {},
   "outputs": [],
   "source": [
    "\n",
    "#import os; print(os.getcwd())\n",
    "#print(os.getenv('VIRTUAL_ENV')) # If you're using Python venv\n",
    "#import sys; print(sys.executable)\n"
   ]
  }
 ],
 "metadata": {
  "kernelspec": {
   "display_name": "RL_Books",
   "language": "python",
   "name": "rl_books"
  },
  "language_info": {
   "codemirror_mode": {
    "name": "ipython",
    "version": 3
   },
   "file_extension": ".py",
   "mimetype": "text/x-python",
   "name": "python",
   "nbconvert_exporter": "python",
   "pygments_lexer": "ipython3",
   "version": "3.11.0"
  }
 },
 "nbformat": 4,
 "nbformat_minor": 5
}
