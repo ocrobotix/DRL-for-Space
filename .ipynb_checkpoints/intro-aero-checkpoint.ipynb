{
 "cells": [
  {
   "cell_type": "markdown",
   "id": "ef2aec06-b819-4ebb-b5c5-d7f6f6ecbe47",
   "metadata": {},
   "source": [
    "# h1 This is intro aero"
   ]
  },
  {
   "cell_type": "markdown",
   "id": "e5a52621-6299-4f51-a96c-bdd02c828abf",
   "metadata": {},
   "source": [
    "## h2 This is intro aero"
   ]
  },
  {
   "cell_type": "markdown",
   "id": "21d61690-36f8-4ff6-aaf5-38e9f7602c46",
   "metadata": {},
   "source": [
    "### h3 This is intro aero"
   ]
  }
 ],
 "metadata": {
  "kernelspec": {
   "display_name": "\"Python/Mu (mu_venv-38-20220921-053148)\"",
   "language": "python",
   "name": "mu_venv-38-20220921-053148"
  },
  "language_info": {
   "codemirror_mode": {
    "name": "ipython",
    "version": 3
   },
   "file_extension": ".py",
   "mimetype": "text/x-python",
   "name": "python",
   "nbconvert_exporter": "python",
   "pygments_lexer": "ipython3",
   "version": "3.8.12"
  }
 },
 "nbformat": 4,
 "nbformat_minor": 5
}
