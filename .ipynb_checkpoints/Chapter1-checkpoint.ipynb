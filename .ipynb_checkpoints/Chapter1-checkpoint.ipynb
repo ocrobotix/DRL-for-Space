{
 "cells": [
  {
   "cell_type": "markdown",
   "id": "ef2aec06-b819-4ebb-b5c5-d7f6f6ecbe47",
   "metadata": {},
   "source": [
    "# This is Chapter 1"
   ]
  },
  {
   "cell_type": "markdown",
   "id": "dcf8a1c9-b7c1-496b-993d-3d6aed316c66",
   "metadata": {},
   "source": [
    "## This is Chapter 1.1"
   ]
  },
  {
   "cell_type": "markdown",
   "id": "8c01bf59-0b0b-48cd-afcb-d51daeb53d74",
   "metadata": {},
   "source": [
    "### This is Chapter 1.1.1"
   ]
  },
  {
   "cell_type": "code",
   "execution_count": 1,
   "id": "f43ec3a1",
   "metadata": {},
   "outputs": [
    {
     "name": "stdout",
     "output_type": "stream",
     "text": [
      "Hello Bear!\n"
     ]
    }
   ],
   "source": [
    "print(\"Hello Bear!\")"
   ]
  },
  {
   "cell_type": "code",
   "execution_count": null,
   "id": "e2f414b4-5c03-43ee-a144-7d221a0aca74",
   "metadata": {},
   "outputs": [],
   "source": []
  }
 ],
 "metadata": {
  "kernelspec": {
   "display_name": "\"Python/Mu (mu_venv-38-20220921-053148)\"",
   "language": "python",
   "name": "mu_venv-38-20220921-053148"
  },
  "language_info": {
   "codemirror_mode": {
    "name": "ipython",
    "version": 3
   },
   "file_extension": ".py",
   "mimetype": "text/x-python",
   "name": "python",
   "nbconvert_exporter": "python",
   "pygments_lexer": "ipython3",
   "version": "3.8.12"
  }
 },
 "nbformat": 4,
 "nbformat_minor": 5
}
