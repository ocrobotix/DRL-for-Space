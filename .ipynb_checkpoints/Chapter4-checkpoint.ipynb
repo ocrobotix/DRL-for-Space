{
 "cells": [
  {
   "cell_type": "code",
   "execution_count": null,
   "id": "182be219-c1bd-4334-9d2a-45fbeaa5e34a",
   "metadata": {},
   "outputs": [],
   "source": [
    "---\n",
    "jupytext:\n",
    "  formats: md:myst\n",
    "  text_representation:\n",
    "    extension: .md\n",
    "    format_name: myst\n",
    "    format_version: 0.13\n",
    "    jupytext_version: 1.11.5\n",
    "kernelspec:\n",
    "  display_name: Python 3\n",
    "  language: python\n",
    "  name: python3\n",
    "---"
   ]
  },
  {
   "cell_type": "markdown",
   "id": "6e8819c8-2cbc-4ad6-9758-0b994a5555c5",
   "metadata": {},
   "source": [
    "### Markedly Structured Text (MyST) Markdown adds two more functionalities on top of common markdown:\n",
    "1. Roles (one liners)\n",
    "2. Directives (many liners)\n",
    "\n",
    "https://jupyterbook.org/en/stable/file-types/jupytext.html"
   ]
  },
  {
   "cell_type": "markdown",
   "id": "d07191d0-dbc7-4213-84c9-6f577e0504c2",
   "metadata": {},
   "source": [
    "### Important: The cell above is a meta header; it must be the first cell always.\n",
    "### The code-cell below won't work without it"
   ]
  },
  {
   "cell_type": "markdown",
   "id": "3e5e385e-26a1-4e35-b338-bc1c9657d6c0",
   "metadata": {},
   "source": [
    "#### Sample Directive: Define Code Cells\n",
    "```{code-cell}\n",
    "print(2 + 2)\n",
    "```"
   ]
  },
  {
   "cell_type": "markdown",
   "id": "e4363c6d-5bb8-45a6-bacf-1f4801f86212",
   "metadata": {},
   "source": [
    "#### Sample Directive: Note\n",
    "```{note}\n",
    "Here is a note\n",
    "```"
   ]
  },
  {
   "cell_type": "markdown",
   "id": "6b49f3d4-69fc-4c8b-8773-7445a35955d3",
   "metadata": {},
   "source": [
    "#### Sample Directive: Link to a document\n",
    "{doc}`markdown-notebooks`.\n"
   ]
  },
  {
   "cell_type": "markdown",
   "id": "58c3ccdf-85b8-4fb4-805c-026f01ac2829",
   "metadata": {},
   "source": [
    "#### Sample Directive: Citations\n",
    "Cite references stored in a `bibtex` file.\n",
    "\n",
    "`` {cite}`holdgraf_evidence_2014` `` \n",
    "will render like\n",
    "{cite}`holdgraf_evidence_2014`.\n",
    "\n",
    "Insert a bibliography into your page:\n",
    "The `{bibliography}` directive must be used for all the `{cite}` roles to\n",
    "render properly.\n",
    "For example, if the references for your book are stored in `references.bib`,\n",
    "then the bibliography is inserted with:\n"
   ]
  }
 ],
 "metadata": {
  "kernelspec": {
   "display_name": "\"Python/Mu (mu_venv-38-20220921-053148)\"",
   "language": "python",
   "name": "mu_venv-38-20220921-053148"
  },
  "language_info": {
   "codemirror_mode": {
    "name": "ipython",
    "version": 3
   },
   "file_extension": ".py",
   "mimetype": "text/x-python",
   "name": "python",
   "nbconvert_exporter": "python",
   "pygments_lexer": "ipython3",
   "version": "3.8.11"
  }
 },
 "nbformat": 4,
 "nbformat_minor": 5
}
