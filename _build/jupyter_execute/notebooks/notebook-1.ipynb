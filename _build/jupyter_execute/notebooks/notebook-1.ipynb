{
 "cells": [
  {
   "cell_type": "markdown",
   "id": "ef2aec06-b819-4ebb-b5c5-d7f6f6ecbe47",
   "metadata": {},
   "source": [
    "# Chapter 1"
   ]
  },
  {
   "cell_type": "code",
   "execution_count": 1,
   "id": "f43ec3a1",
   "metadata": {},
   "outputs": [
    {
     "name": "stdout",
     "output_type": "stream",
     "text": [
      "Hello Bear!\n"
     ]
    }
   ],
   "source": [
    "print(\"Hello Bear!\")"
   ]
  },
  {
   "cell_type": "markdown",
   "id": "47d111dc-e592-44a6-811c-e83200b1ff8d",
   "metadata": {},
   "source": [
    "**Embed images from local computer**\n",
    "* General command is   <br> \n",
    "`![Descriptive_Text](path_to_local_image?width=100&height=100)`\n",
    "\n",
    "![This jpg_image is in same directory as this notebook ](bear.jpg)\n",
    "\n",
    "* Note: path to this directory is: <br> \n"
   ]
  },
  {
   "cell_type": "code",
   "execution_count": 3,
   "id": "f9275593-19a6-4252-af57-06e2a2be2a42",
   "metadata": {},
   "outputs": [
    {
     "name": "stdout",
     "output_type": "stream",
     "text": [
      "D:\\Jupyter\\Books\\ocdrones\n"
     ]
    }
   ],
   "source": [
    "import os\n",
    "print(os.getcwd())"
   ]
  }
 ],
 "metadata": {
  "kernelspec": {
   "display_name": "\"Python/Mu (mu_venv-38-20220921-053148)\"",
   "language": "python",
   "name": "mu_venv-38-20220921-053148"
  },
  "language_info": {
   "codemirror_mode": {
    "name": "ipython",
    "version": 3
   },
   "file_extension": ".py",
   "mimetype": "text/x-python",
   "name": "python",
   "nbconvert_exporter": "python",
   "pygments_lexer": "ipython3",
   "version": "3.8.11"
  }
 },
 "nbformat": 4,
 "nbformat_minor": 5
}