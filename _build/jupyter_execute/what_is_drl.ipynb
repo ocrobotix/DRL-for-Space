{
 "cells": [
  {
   "cell_type": "markdown",
   "id": "62e54c89-dea9-4bc1-9183-68b1a93ffed9",
   "metadata": {},
   "source": [
    "# What is DRL?"
   ]
  }
 ],
 "metadata": {
  "kernelspec": {
   "display_name": "\"Python/Mu (mu_venv-38-20220921-053148)\"",
   "language": "python",
   "name": "mu_venv-38-20220921-053148"
  },
  "language_info": {
   "codemirror_mode": {
    "name": "ipython",
    "version": 3
   },
   "file_extension": ".py",
   "mimetype": "text/x-python",
   "name": "python",
   "nbconvert_exporter": "python",
   "pygments_lexer": "ipython3",
   "version": "3.8.12"
  }
 },
 "nbformat": 4,
 "nbformat_minor": 5
}